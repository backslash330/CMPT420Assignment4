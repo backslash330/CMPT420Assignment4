{
 "cells": [
  {
   "cell_type": "code",
   "execution_count": null,
   "metadata": {},
   "outputs": [],
   "source": [
    "# CMPT/MATH 420 - Assignment 4 fall 2022, Dr. Ben Cameron\n",
    "# Name:\n",
    "# Student Number:"
   ]
  },
  {
   "cell_type": "code",
   "execution_count": null,
   "metadata": {},
   "outputs": [],
   "source": [
    "import random #required for function uniform\n",
    "\n",
    "def CrudeMonteCarlo(f, a, b, n):\n",
    "    #function body"
   ]
  },
  {
   "cell_type": "code",
   "execution_count": null,
   "metadata": {},
   "outputs": [],
   "source": [
    "actualI = integrate(sin(x)-1+sqrt(x), x, 1, 5)\n",
    "print(\"Test 1: n=25\")\n",
    "approxI = CrudeMonteCarlo(sin(x)-1+sqrt(x), 1, 5, 25)\n",
    "print(f\"Approximation is: {approxI}\")\n",
    "print(f\"Error is: {abs(approxI-actualI).n()}\")\n",
    "print(\"******************************************\")\n",
    "print(\"Test 2: n=250\")\n",
    "approxI = CrudeMonteCarlo(sin(x)-1+sqrt(x), 1, 5, 250)\n",
    "print(f\"Approximation is: {approxI}\")\n",
    "print(f\"Error is: {abs(approxI-actualI).n()}\")\n",
    "print(CrudeMonteCarlo(sin(x)-1+sqrt(x), 1, 5, 250))\n",
    "print(\"******************************************\")\n",
    "print(\"Test 3: n=100000\")\n",
    "approxI = CrudeMonteCarlo(sin(x)-1+sqrt(x), 1, 5, 100000)\n",
    "print(f\"Approximation is: {approxI}\")\n",
    "print(f\"Error is: {abs(approxI-actualI).n()}\")\n",
    "print(\"******************************************\")"
   ]
  }
 ],
 "metadata": {
  "kernelspec": {
   "display_name": "SageMath 9.2",
   "language": "sage",
   "name": "sagemath"
  },
  "language_info": {
   "codemirror_mode": {
    "name": "ipython",
    "version": 3
   },
   "file_extension": ".py",
   "mimetype": "text/x-python",
   "name": "python",
   "nbconvert_exporter": "python",
   "pygments_lexer": "ipython3",
   "version": "3.7.7"
  }
 },
 "nbformat": 4,
 "nbformat_minor": 4
}
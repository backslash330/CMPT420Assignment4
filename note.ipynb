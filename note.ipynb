{
 "cells": [
  {
   "cell_type": "code",
   "execution_count": 1,
   "metadata": {},
   "outputs": [],
   "source": [
    "import random #required for function uniform\n",
    "\n",
    "#NOTE: function f must be positive for this to work!\n",
    "# M is the exact maximum value for f on the interval [a,b], not just a loose upper bound\n",
    "def DIB_MonteCarlo(f, a, b, M, n):\n",
    "    count = 0 #will keep track of how many points ie under the curve f\n",
    "    for i in range(n):\n",
    "        x0 = random.uniform(a,b) \n",
    "        y0 = random.uniform(0,M)\n",
    "        #now we will test if the randomly generated point (x0,y0) lies below the curve\n",
    "        if(y0<=f.subs(x=x0)):\n",
    "            count += 1\n",
    "    #our return value if the area of the rectangle containing the curve (b-a)*M \n",
    "    #multiplied by the proportion of points under the curve to total points generated\n",
    "    return ((b-a)*M*(count/n)).n()"
   ]
  },
  {
   "cell_type": "code",
   "execution_count": 11,
   "metadata": {},
   "outputs": [
    {
     "data": {
      "text/plain": [
       "1.99176974237593"
      ]
     },
     "execution_count": 11,
     "metadata": {},
     "output_type": "execute_result"
    }
   ],
   "source": [
    "DIB_MonteCarlo(sin(x),0,pi,1,1000)"
   ]
  },
  {
   "cell_type": "code",
   "execution_count": null,
   "metadata": {},
   "outputs": [],
   "source": []
  },
  {
   "cell_type": "code",
   "execution_count": null,
   "metadata": {},
   "outputs": [],
   "source": []
  }
 ],
 "metadata": {
  "kernelspec": {
   "display_name": "SageMath 9.2",
   "language": "sage",
   "name": "sagemath"
  },
  "language_info": {
   "codemirror_mode": {
    "name": "ipython",
    "version": 3
   },
   "file_extension": ".py",
   "mimetype": "text/x-python",
   "name": "python",
   "nbconvert_exporter": "python",
   "pygments_lexer": "ipython3",
   "version": "3.7.7"
  }
 },
 "nbformat": 4,
 "nbformat_minor": 4
}
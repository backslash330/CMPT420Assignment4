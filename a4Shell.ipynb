{
 "cells": [
  {
   "cell_type": "code",
   "execution_count": null,
   "metadata": {},
   "outputs": [],
   "source": [
    "# CMPT/MATH 420 - Assignment 4 fall 2022, Dr. Ben Cameron\n",
    "# Name: Nicholas Almeida\n",
    "# Student Number: 200385"
   ]
  },
  {
   "cell_type": "code",
   "execution_count": 5,
   "metadata": {},
   "outputs": [],
   "source": [
    "# 4. (5 marks) In the A4 shell.ipynb, write a function called CrudeMonteCarlo(f, a, b, n) where f is a continuous\n",
    "# function on the interval [a,b] and n is a positive integer indicating the number of iterations. This function\n",
    "# should iteratively generate a random number xrand in the interval [a, b] using the random.uniform function\n",
    "# and compute the area of the rectangle with base (b − a) and height f(xrand). The function should return the\n",
    "# average of the areas of the n rectangles generated as a Monte Carlo approximation for R b\n",
    "# a\n",
    "# f(x)dx. Run the\n",
    "# code in the cell below your function a few times to note the outputs.\n",
    "\n",
    "\n",
    "import random #required for function uniform\n",
    "def CrudeMonteCarlo(f, a, b, n):\n",
    "    #function body\n",
    "    sum = 0\n",
    "    for i in range(n):\n",
    "        xrand = random.uniform(a,b)\n",
    "        sum += (b-a)*f(x=xrand)\n",
    "    return sum/n\n"
   ]
  },
  {
   "cell_type": "code",
   "execution_count": 9,
   "metadata": {},
   "outputs": [
    {
     "name": "stdout",
     "output_type": "stream",
     "text": [
      "Test 1: n=25\n",
      "Approximation is: 3.00257081490141\n",
      "Error is: 0.0409625638361364\n",
      "******************************************\n",
      "Test 2: n=250\n",
      "Approximation is: 3.22902967699302\n",
      "Error is: 0.185496298255477\n",
      "3.09733874458540\n",
      "******************************************\n",
      "Test 3: n=100000\n",
      "Approximation is: 3.04609200019606\n",
      "Error is: 0.00255862145851804\n",
      "******************************************\n"
     ]
    }
   ],
   "source": [
    "actualI = integrate(sin(x)-1+sqrt(x), x, 1, 5)\n",
    "print(\"Test 1: n=25\")\n",
    "approxI = CrudeMonteCarlo(sin(x)-1+sqrt(x), 1, 5, 25)\n",
    "print(f\"Approximation is: {approxI}\")\n",
    "print(f\"Error is: {abs(approxI-actualI).n()}\")\n",
    "print(\"******************************************\")\n",
    "print(\"Test 2: n=250\")\n",
    "approxI = CrudeMonteCarlo(sin(x)-1+sqrt(x), 1, 5, 250)\n",
    "print(f\"Approximation is: {approxI}\")\n",
    "print(f\"Error is: {abs(approxI-actualI).n()}\")\n",
    "print(CrudeMonteCarlo(sin(x)-1+sqrt(x), 1, 5, 250))\n",
    "print(\"******************************************\")\n",
    "print(\"Test 3: n=100000\")\n",
    "approxI = CrudeMonteCarlo(sin(x)-1+sqrt(x), 1, 5, 100000)\n",
    "print(f\"Approximation is: {approxI}\")\n",
    "print(f\"Error is: {abs(approxI-actualI).n()}\")\n",
    "print(\"******************************************\")"
   ]
  }
 ],
 "metadata": {
  "kernelspec": {
   "display_name": "SageMath 9.5",
   "language": "sage",
   "name": "sagemath"
  },
  "language_info": {
   "codemirror_mode": {
    "name": "ipython",
    "version": 3
   },
   "file_extension": ".py",
   "mimetype": "text/x-python",
   "name": "python",
   "nbconvert_exporter": "python",
   "pygments_lexer": "ipython3",
   "version": "3.9.9"
  }
 },
 "nbformat": 4,
 "nbformat_minor": 4
}
